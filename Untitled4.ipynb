{
 "cells": [
  {
   "cell_type": "code",
   "execution_count": 1,
   "metadata": {},
   "outputs": [
    {
     "ename": "ModuleNotFoundError",
     "evalue": "No module named 'employee'",
     "output_type": "error",
     "traceback": [
      "\u001b[1;31m---------------------------------------------------------------------------\u001b[0m",
      "\u001b[1;31mModuleNotFoundError\u001b[0m                       Traceback (most recent call last)",
      "\u001b[1;32m<ipython-input-1-4d388fea799f>\u001b[0m in \u001b[0;36m<module>\u001b[1;34m\u001b[0m\n\u001b[0;32m      1\u001b[0m \u001b[1;32mimport\u001b[0m \u001b[0msqlite3\u001b[0m\u001b[1;33m\u001b[0m\u001b[1;33m\u001b[0m\u001b[0m\n\u001b[1;32m----> 2\u001b[1;33m \u001b[1;32mfrom\u001b[0m \u001b[0memployee\u001b[0m \u001b[1;32mimport\u001b[0m \u001b[0mEmployee\u001b[0m\u001b[1;33m\u001b[0m\u001b[1;33m\u001b[0m\u001b[0m\n\u001b[0m\u001b[0;32m      3\u001b[0m \u001b[1;33m\u001b[0m\u001b[0m\n\u001b[0;32m      4\u001b[0m \u001b[0mconn\u001b[0m \u001b[1;33m=\u001b[0m \u001b[0msqlite3\u001b[0m\u001b[1;33m.\u001b[0m\u001b[0mconnect\u001b[0m\u001b[1;33m(\u001b[0m\u001b[1;34m':memory:'\u001b[0m\u001b[1;33m)\u001b[0m\u001b[1;33m\u001b[0m\u001b[1;33m\u001b[0m\u001b[0m\n\u001b[0;32m      5\u001b[0m \u001b[1;33m\u001b[0m\u001b[0m\n",
      "\u001b[1;31mModuleNotFoundError\u001b[0m: No module named 'employee'"
     ]
    }
   ],
   "source": [
    "import sqlite3\n",
    "from employee import Employee\n",
    "\n",
    "conn = sqlite3.connect(':memory:')\n",
    "\n",
    "c = conn.cursor()\n",
    "\n",
    "c.execute(\"\"\"CREATE TABLE employees (\n",
    "            first text,\n",
    "            last text,\n",
    "            pay integer\n",
    "            )\"\"\")\n",
    "\n",
    "\n",
    "def insert_emp(emp):\n",
    "    with conn:\n",
    "        c.execute(\"INSERT INTO employees VALUES (:first, :last, :pay)\", {'first': emp.first, 'last': emp.last, 'pay': emp.pay})\n",
    "\n",
    "\n",
    "def get_emps_by_name(lastname):\n",
    "    c.execute(\"SELECT * FROM employees WHERE last=:last\", {'last': lastname})\n",
    "    return c.fetchall()\n",
    "\n",
    "\n",
    "def update_pay(emp, pay):\n",
    "    with conn:\n",
    "        c.execute(\"\"\"UPDATE employees SET pay = :pay\n",
    "                    WHERE first = :first AND last = :last\"\"\",\n",
    "                  {'first': emp.first, 'last': emp.last, 'pay': pay})\n",
    "\n",
    "\n",
    "def remove_emp(emp):\n",
    "    with conn:\n",
    "        c.execute(\"DELETE from employees WHERE first = :first AND last = :last\",\n",
    "                  {'first': emp.first, 'last': emp.last})\n",
    "\n",
    "emp_1 = Employee('John', 'Doe', 80000)\n",
    "emp_2 = Employee('Jane', 'Doe', 90000)\n",
    "\n",
    "insert_emp(emp_1)\n",
    "insert_emp(emp_2)\n",
    "\n",
    "emps = get_emps_by_name('Doe')\n",
    "print(emps)\n",
    "\n",
    "update_pay(emp_2, 95000)\n",
    "remove_emp(emp_1)\n",
    "\n",
    "emps = get_emps_by_name('Doe')\n",
    "print(emps)\n",
    "\n",
    "conn.close()"
   ]
  },
  {
   "cell_type": "code",
   "execution_count": null,
   "metadata": {},
   "outputs": [],
   "source": []
  }
 ],
 "metadata": {
  "kernelspec": {
   "display_name": "Python 3.8.0 64-bit",
   "language": "python",
   "name": "python38064bite3100ea7edca42f18110818b341276ea"
  },
  "language_info": {
   "codemirror_mode": {
    "name": "ipython",
    "version": 3
   },
   "file_extension": ".py",
   "mimetype": "text/x-python",
   "name": "python",
   "nbconvert_exporter": "python",
   "pygments_lexer": "ipython3",
   "version": "3.8.0"
  }
 },
 "nbformat": 4,
 "nbformat_minor": 4
}
