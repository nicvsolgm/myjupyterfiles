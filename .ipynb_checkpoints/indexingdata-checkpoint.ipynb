{
 "cells": [
  {
   "cell_type": "code",
   "execution_count": 1,
   "metadata": {},
   "outputs": [],
   "source": [
    "import pandas as pd\n",
    "from matplotlib import pyplot as plt\n",
    "import numpy as np"
   ]
  },
  {
   "cell_type": "code",
   "execution_count": 2,
   "metadata": {},
   "outputs": [],
   "source": [
    "dates = pd.date_range('1/1/2000', periods=10)"
   ]
  },
  {
   "cell_type": "code",
   "execution_count": 3,
   "metadata": {},
   "outputs": [
    {
     "data": {
      "text/plain": [
       "DatetimeIndex(['2000-01-01', '2000-01-02', '2000-01-03', '2000-01-04',\n",
       "               '2000-01-05', '2000-01-06', '2000-01-07', '2000-01-08',\n",
       "               '2000-01-09', '2000-01-10'],\n",
       "              dtype='datetime64[ns]', freq='D')"
      ]
     },
     "execution_count": 3,
     "metadata": {},
     "output_type": "execute_result"
    }
   ],
   "source": [
    "dates"
   ]
  },
  {
   "cell_type": "code",
   "execution_count": 4,
   "metadata": {},
   "outputs": [
    {
     "data": {
      "text/html": [
       "<div>\n",
       "<style scoped>\n",
       "    .dataframe tbody tr th:only-of-type {\n",
       "        vertical-align: middle;\n",
       "    }\n",
       "\n",
       "    .dataframe tbody tr th {\n",
       "        vertical-align: top;\n",
       "    }\n",
       "\n",
       "    .dataframe thead th {\n",
       "        text-align: right;\n",
       "    }\n",
       "</style>\n",
       "<table border=\"1\" class=\"dataframe\">\n",
       "  <thead>\n",
       "    <tr style=\"text-align: right;\">\n",
       "      <th></th>\n",
       "      <th>A</th>\n",
       "      <th>B</th>\n",
       "      <th>C</th>\n",
       "      <th>D</th>\n",
       "    </tr>\n",
       "  </thead>\n",
       "  <tbody>\n",
       "    <tr>\n",
       "      <th>2000-01-01</th>\n",
       "      <td>0.383023</td>\n",
       "      <td>1.877255</td>\n",
       "      <td>-0.691781</td>\n",
       "      <td>-0.703798</td>\n",
       "    </tr>\n",
       "    <tr>\n",
       "      <th>2000-01-02</th>\n",
       "      <td>-0.346059</td>\n",
       "      <td>-1.852604</td>\n",
       "      <td>-0.278236</td>\n",
       "      <td>-1.297436</td>\n",
       "    </tr>\n",
       "    <tr>\n",
       "      <th>2000-01-03</th>\n",
       "      <td>-0.819541</td>\n",
       "      <td>-1.055057</td>\n",
       "      <td>0.057064</td>\n",
       "      <td>-0.134281</td>\n",
       "    </tr>\n",
       "    <tr>\n",
       "      <th>2000-01-04</th>\n",
       "      <td>-1.157159</td>\n",
       "      <td>0.325264</td>\n",
       "      <td>-1.373997</td>\n",
       "      <td>-1.941989</td>\n",
       "    </tr>\n",
       "    <tr>\n",
       "      <th>2000-01-05</th>\n",
       "      <td>0.423163</td>\n",
       "      <td>0.031872</td>\n",
       "      <td>-1.670472</td>\n",
       "      <td>-0.621873</td>\n",
       "    </tr>\n",
       "    <tr>\n",
       "      <th>2000-01-06</th>\n",
       "      <td>1.124121</td>\n",
       "      <td>0.238396</td>\n",
       "      <td>1.685163</td>\n",
       "      <td>-0.251619</td>\n",
       "    </tr>\n",
       "    <tr>\n",
       "      <th>2000-01-07</th>\n",
       "      <td>0.418121</td>\n",
       "      <td>0.623196</td>\n",
       "      <td>-0.076841</td>\n",
       "      <td>0.837139</td>\n",
       "    </tr>\n",
       "    <tr>\n",
       "      <th>2000-01-08</th>\n",
       "      <td>1.522733</td>\n",
       "      <td>0.198380</td>\n",
       "      <td>0.707319</td>\n",
       "      <td>1.362846</td>\n",
       "    </tr>\n",
       "    <tr>\n",
       "      <th>2000-01-09</th>\n",
       "      <td>0.967111</td>\n",
       "      <td>0.165367</td>\n",
       "      <td>0.565064</td>\n",
       "      <td>-0.872076</td>\n",
       "    </tr>\n",
       "    <tr>\n",
       "      <th>2000-01-10</th>\n",
       "      <td>0.643099</td>\n",
       "      <td>0.732588</td>\n",
       "      <td>1.441999</td>\n",
       "      <td>1.011026</td>\n",
       "    </tr>\n",
       "  </tbody>\n",
       "</table>\n",
       "</div>"
      ],
      "text/plain": [
       "                   A         B         C         D\n",
       "2000-01-01  0.383023  1.877255 -0.691781 -0.703798\n",
       "2000-01-02 -0.346059 -1.852604 -0.278236 -1.297436\n",
       "2000-01-03 -0.819541 -1.055057  0.057064 -0.134281\n",
       "2000-01-04 -1.157159  0.325264 -1.373997 -1.941989\n",
       "2000-01-05  0.423163  0.031872 -1.670472 -0.621873\n",
       "2000-01-06  1.124121  0.238396  1.685163 -0.251619\n",
       "2000-01-07  0.418121  0.623196 -0.076841  0.837139\n",
       "2000-01-08  1.522733  0.198380  0.707319  1.362846\n",
       "2000-01-09  0.967111  0.165367  0.565064 -0.872076\n",
       "2000-01-10  0.643099  0.732588  1.441999  1.011026"
      ]
     },
     "execution_count": 4,
     "metadata": {},
     "output_type": "execute_result"
    }
   ],
   "source": [
    "df = pd.DataFrame(np.random.randn(10, 4),index=dates, columns=['A', 'B', 'C', 'D'])\n",
    "df"
   ]
  },
  {
   "cell_type": "code",
   "execution_count": 5,
   "metadata": {},
   "outputs": [],
   "source": [
    "df2 =pd.DataFrame(np.random.randn(8, 4),columns=['A', 'B', 'C', 'D'])"
   ]
  },
  {
   "cell_type": "code",
   "execution_count": 6,
   "metadata": {},
   "outputs": [
    {
     "data": {
      "text/html": [
       "<div>\n",
       "<style scoped>\n",
       "    .dataframe tbody tr th:only-of-type {\n",
       "        vertical-align: middle;\n",
       "    }\n",
       "\n",
       "    .dataframe tbody tr th {\n",
       "        vertical-align: top;\n",
       "    }\n",
       "\n",
       "    .dataframe thead th {\n",
       "        text-align: right;\n",
       "    }\n",
       "</style>\n",
       "<table border=\"1\" class=\"dataframe\">\n",
       "  <thead>\n",
       "    <tr style=\"text-align: right;\">\n",
       "      <th></th>\n",
       "      <th>A</th>\n",
       "      <th>B</th>\n",
       "      <th>C</th>\n",
       "      <th>D</th>\n",
       "    </tr>\n",
       "  </thead>\n",
       "  <tbody>\n",
       "    <tr>\n",
       "      <th>0</th>\n",
       "      <td>-0.884766</td>\n",
       "      <td>-0.243041</td>\n",
       "      <td>-1.413437</td>\n",
       "      <td>-0.391017</td>\n",
       "    </tr>\n",
       "    <tr>\n",
       "      <th>1</th>\n",
       "      <td>1.012176</td>\n",
       "      <td>0.004220</td>\n",
       "      <td>0.064979</td>\n",
       "      <td>-0.864213</td>\n",
       "    </tr>\n",
       "    <tr>\n",
       "      <th>2</th>\n",
       "      <td>0.096901</td>\n",
       "      <td>-1.016758</td>\n",
       "      <td>-1.048021</td>\n",
       "      <td>1.534606</td>\n",
       "    </tr>\n",
       "    <tr>\n",
       "      <th>3</th>\n",
       "      <td>-0.976983</td>\n",
       "      <td>1.568469</td>\n",
       "      <td>0.214312</td>\n",
       "      <td>2.253106</td>\n",
       "    </tr>\n",
       "    <tr>\n",
       "      <th>4</th>\n",
       "      <td>1.202407</td>\n",
       "      <td>0.807046</td>\n",
       "      <td>-1.548932</td>\n",
       "      <td>-0.638776</td>\n",
       "    </tr>\n",
       "    <tr>\n",
       "      <th>5</th>\n",
       "      <td>1.098077</td>\n",
       "      <td>0.589104</td>\n",
       "      <td>0.898445</td>\n",
       "      <td>1.644949</td>\n",
       "    </tr>\n",
       "    <tr>\n",
       "      <th>6</th>\n",
       "      <td>1.438295</td>\n",
       "      <td>-0.115524</td>\n",
       "      <td>0.599766</td>\n",
       "      <td>-1.367173</td>\n",
       "    </tr>\n",
       "    <tr>\n",
       "      <th>7</th>\n",
       "      <td>1.676807</td>\n",
       "      <td>0.234258</td>\n",
       "      <td>1.073511</td>\n",
       "      <td>-0.422592</td>\n",
       "    </tr>\n",
       "  </tbody>\n",
       "</table>\n",
       "</div>"
      ],
      "text/plain": [
       "          A         B         C         D\n",
       "0 -0.884766 -0.243041 -1.413437 -0.391017\n",
       "1  1.012176  0.004220  0.064979 -0.864213\n",
       "2  0.096901 -1.016758 -1.048021  1.534606\n",
       "3 -0.976983  1.568469  0.214312  2.253106\n",
       "4  1.202407  0.807046 -1.548932 -0.638776\n",
       "5  1.098077  0.589104  0.898445  1.644949\n",
       "6  1.438295 -0.115524  0.599766 -1.367173\n",
       "7  1.676807  0.234258  1.073511 -0.422592"
      ]
     },
     "execution_count": 6,
     "metadata": {},
     "output_type": "execute_result"
    }
   ],
   "source": [
    "df2"
   ]
  },
  {
   "cell_type": "code",
   "execution_count": 7,
   "metadata": {},
   "outputs": [],
   "source": [
    "df3 = pd.DataFrame(np.random.randn(6, 3),columns=['1', '2', '3'])"
   ]
  },
  {
   "cell_type": "code",
   "execution_count": 8,
   "metadata": {},
   "outputs": [
    {
     "data": {
      "text/html": [
       "<div>\n",
       "<style scoped>\n",
       "    .dataframe tbody tr th:only-of-type {\n",
       "        vertical-align: middle;\n",
       "    }\n",
       "\n",
       "    .dataframe tbody tr th {\n",
       "        vertical-align: top;\n",
       "    }\n",
       "\n",
       "    .dataframe thead th {\n",
       "        text-align: right;\n",
       "    }\n",
       "</style>\n",
       "<table border=\"1\" class=\"dataframe\">\n",
       "  <thead>\n",
       "    <tr style=\"text-align: right;\">\n",
       "      <th></th>\n",
       "      <th>1</th>\n",
       "      <th>2</th>\n",
       "      <th>3</th>\n",
       "    </tr>\n",
       "  </thead>\n",
       "  <tbody>\n",
       "    <tr>\n",
       "      <th>0</th>\n",
       "      <td>0.231003</td>\n",
       "      <td>0.848472</td>\n",
       "      <td>1.382487</td>\n",
       "    </tr>\n",
       "    <tr>\n",
       "      <th>1</th>\n",
       "      <td>1.000597</td>\n",
       "      <td>-1.598157</td>\n",
       "      <td>-0.649392</td>\n",
       "    </tr>\n",
       "    <tr>\n",
       "      <th>2</th>\n",
       "      <td>0.350502</td>\n",
       "      <td>0.978119</td>\n",
       "      <td>-0.485099</td>\n",
       "    </tr>\n",
       "    <tr>\n",
       "      <th>3</th>\n",
       "      <td>-2.524474</td>\n",
       "      <td>1.270270</td>\n",
       "      <td>-1.867177</td>\n",
       "    </tr>\n",
       "    <tr>\n",
       "      <th>4</th>\n",
       "      <td>0.493122</td>\n",
       "      <td>-0.646952</td>\n",
       "      <td>1.476821</td>\n",
       "    </tr>\n",
       "    <tr>\n",
       "      <th>5</th>\n",
       "      <td>0.191283</td>\n",
       "      <td>0.246047</td>\n",
       "      <td>0.243668</td>\n",
       "    </tr>\n",
       "  </tbody>\n",
       "</table>\n",
       "</div>"
      ],
      "text/plain": [
       "          1         2         3\n",
       "0  0.231003  0.848472  1.382487\n",
       "1  1.000597 -1.598157 -0.649392\n",
       "2  0.350502  0.978119 -0.485099\n",
       "3 -2.524474  1.270270 -1.867177\n",
       "4  0.493122 -0.646952  1.476821\n",
       "5  0.191283  0.246047  0.243668"
      ]
     },
     "execution_count": 8,
     "metadata": {},
     "output_type": "execute_result"
    }
   ],
   "source": [
    "df3"
   ]
  },
  {
   "cell_type": "code",
   "execution_count": 9,
   "metadata": {},
   "outputs": [
    {
     "data": {
      "text/html": [
       "<div>\n",
       "<style scoped>\n",
       "    .dataframe tbody tr th:only-of-type {\n",
       "        vertical-align: middle;\n",
       "    }\n",
       "\n",
       "    .dataframe tbody tr th {\n",
       "        vertical-align: top;\n",
       "    }\n",
       "\n",
       "    .dataframe thead th {\n",
       "        text-align: right;\n",
       "    }\n",
       "</style>\n",
       "<table border=\"1\" class=\"dataframe\">\n",
       "  <thead>\n",
       "    <tr style=\"text-align: right;\">\n",
       "      <th></th>\n",
       "      <th>A</th>\n",
       "      <th>B</th>\n",
       "      <th>C</th>\n",
       "      <th>D</th>\n",
       "    </tr>\n",
       "  </thead>\n",
       "  <tbody>\n",
       "    <tr>\n",
       "      <th>0</th>\n",
       "      <td>-0.884766</td>\n",
       "      <td>-0.243041</td>\n",
       "      <td>-1.413437</td>\n",
       "      <td>-0.391017</td>\n",
       "    </tr>\n",
       "    <tr>\n",
       "      <th>1</th>\n",
       "      <td>1.012176</td>\n",
       "      <td>0.004220</td>\n",
       "      <td>0.064979</td>\n",
       "      <td>-0.864213</td>\n",
       "    </tr>\n",
       "    <tr>\n",
       "      <th>2</th>\n",
       "      <td>0.096901</td>\n",
       "      <td>-1.016758</td>\n",
       "      <td>-1.048021</td>\n",
       "      <td>1.534606</td>\n",
       "    </tr>\n",
       "    <tr>\n",
       "      <th>3</th>\n",
       "      <td>-0.976983</td>\n",
       "      <td>1.568469</td>\n",
       "      <td>0.214312</td>\n",
       "      <td>2.253106</td>\n",
       "    </tr>\n",
       "    <tr>\n",
       "      <th>4</th>\n",
       "      <td>1.202407</td>\n",
       "      <td>0.807046</td>\n",
       "      <td>-1.548932</td>\n",
       "      <td>-0.638776</td>\n",
       "    </tr>\n",
       "    <tr>\n",
       "      <th>5</th>\n",
       "      <td>1.098077</td>\n",
       "      <td>0.589104</td>\n",
       "      <td>0.898445</td>\n",
       "      <td>1.644949</td>\n",
       "    </tr>\n",
       "    <tr>\n",
       "      <th>6</th>\n",
       "      <td>1.438295</td>\n",
       "      <td>-0.115524</td>\n",
       "      <td>0.599766</td>\n",
       "      <td>-1.367173</td>\n",
       "    </tr>\n",
       "    <tr>\n",
       "      <th>7</th>\n",
       "      <td>1.676807</td>\n",
       "      <td>0.234258</td>\n",
       "      <td>1.073511</td>\n",
       "      <td>-0.422592</td>\n",
       "    </tr>\n",
       "  </tbody>\n",
       "</table>\n",
       "</div>"
      ],
      "text/plain": [
       "          A         B         C         D\n",
       "0 -0.884766 -0.243041 -1.413437 -0.391017\n",
       "1  1.012176  0.004220  0.064979 -0.864213\n",
       "2  0.096901 -1.016758 -1.048021  1.534606\n",
       "3 -0.976983  1.568469  0.214312  2.253106\n",
       "4  1.202407  0.807046 -1.548932 -0.638776\n",
       "5  1.098077  0.589104  0.898445  1.644949\n",
       "6  1.438295 -0.115524  0.599766 -1.367173\n",
       "7  1.676807  0.234258  1.073511 -0.422592"
      ]
     },
     "execution_count": 9,
     "metadata": {},
     "output_type": "execute_result"
    }
   ],
   "source": [
    "df2"
   ]
  },
  {
   "cell_type": "code",
   "execution_count": 10,
   "metadata": {},
   "outputs": [
    {
     "data": {
      "text/html": [
       "<div>\n",
       "<style scoped>\n",
       "    .dataframe tbody tr th:only-of-type {\n",
       "        vertical-align: middle;\n",
       "    }\n",
       "\n",
       "    .dataframe tbody tr th {\n",
       "        vertical-align: top;\n",
       "    }\n",
       "\n",
       "    .dataframe thead th {\n",
       "        text-align: right;\n",
       "    }\n",
       "</style>\n",
       "<table border=\"1\" class=\"dataframe\">\n",
       "  <thead>\n",
       "    <tr style=\"text-align: right;\">\n",
       "      <th></th>\n",
       "      <th>A</th>\n",
       "      <th>B</th>\n",
       "      <th>C</th>\n",
       "      <th>D</th>\n",
       "    </tr>\n",
       "  </thead>\n",
       "  <tbody>\n",
       "    <tr>\n",
       "      <th>2000-01-01</th>\n",
       "      <td>0.383023</td>\n",
       "      <td>1.877255</td>\n",
       "      <td>-0.691781</td>\n",
       "      <td>-0.703798</td>\n",
       "    </tr>\n",
       "    <tr>\n",
       "      <th>2000-01-02</th>\n",
       "      <td>-0.346059</td>\n",
       "      <td>-1.852604</td>\n",
       "      <td>-0.278236</td>\n",
       "      <td>-1.297436</td>\n",
       "    </tr>\n",
       "    <tr>\n",
       "      <th>2000-01-03</th>\n",
       "      <td>-0.819541</td>\n",
       "      <td>-1.055057</td>\n",
       "      <td>0.057064</td>\n",
       "      <td>-0.134281</td>\n",
       "    </tr>\n",
       "    <tr>\n",
       "      <th>2000-01-04</th>\n",
       "      <td>-1.157159</td>\n",
       "      <td>0.325264</td>\n",
       "      <td>-1.373997</td>\n",
       "      <td>-1.941989</td>\n",
       "    </tr>\n",
       "    <tr>\n",
       "      <th>2000-01-05</th>\n",
       "      <td>0.423163</td>\n",
       "      <td>0.031872</td>\n",
       "      <td>-1.670472</td>\n",
       "      <td>-0.621873</td>\n",
       "    </tr>\n",
       "    <tr>\n",
       "      <th>2000-01-06</th>\n",
       "      <td>1.124121</td>\n",
       "      <td>0.238396</td>\n",
       "      <td>1.685163</td>\n",
       "      <td>-0.251619</td>\n",
       "    </tr>\n",
       "    <tr>\n",
       "      <th>2000-01-07</th>\n",
       "      <td>0.418121</td>\n",
       "      <td>0.623196</td>\n",
       "      <td>-0.076841</td>\n",
       "      <td>0.837139</td>\n",
       "    </tr>\n",
       "    <tr>\n",
       "      <th>2000-01-08</th>\n",
       "      <td>1.522733</td>\n",
       "      <td>0.198380</td>\n",
       "      <td>0.707319</td>\n",
       "      <td>1.362846</td>\n",
       "    </tr>\n",
       "    <tr>\n",
       "      <th>2000-01-09</th>\n",
       "      <td>0.967111</td>\n",
       "      <td>0.165367</td>\n",
       "      <td>0.565064</td>\n",
       "      <td>-0.872076</td>\n",
       "    </tr>\n",
       "    <tr>\n",
       "      <th>2000-01-10</th>\n",
       "      <td>0.643099</td>\n",
       "      <td>0.732588</td>\n",
       "      <td>1.441999</td>\n",
       "      <td>1.011026</td>\n",
       "    </tr>\n",
       "  </tbody>\n",
       "</table>\n",
       "</div>"
      ],
      "text/plain": [
       "                   A         B         C         D\n",
       "2000-01-01  0.383023  1.877255 -0.691781 -0.703798\n",
       "2000-01-02 -0.346059 -1.852604 -0.278236 -1.297436\n",
       "2000-01-03 -0.819541 -1.055057  0.057064 -0.134281\n",
       "2000-01-04 -1.157159  0.325264 -1.373997 -1.941989\n",
       "2000-01-05  0.423163  0.031872 -1.670472 -0.621873\n",
       "2000-01-06  1.124121  0.238396  1.685163 -0.251619\n",
       "2000-01-07  0.418121  0.623196 -0.076841  0.837139\n",
       "2000-01-08  1.522733  0.198380  0.707319  1.362846\n",
       "2000-01-09  0.967111  0.165367  0.565064 -0.872076\n",
       "2000-01-10  0.643099  0.732588  1.441999  1.011026"
      ]
     },
     "execution_count": 10,
     "metadata": {},
     "output_type": "execute_result"
    }
   ],
   "source": [
    " df\n"
   ]
  },
  {
   "cell_type": "code",
   "execution_count": 11,
   "metadata": {},
   "outputs": [
    {
     "data": {
      "text/plain": [
       "2000-01-01    0.383023\n",
       "2000-01-02   -0.346059\n",
       "2000-01-03   -0.819541\n",
       "2000-01-04   -1.157159\n",
       "2000-01-05    0.423163\n",
       "2000-01-06    1.124121\n",
       "2000-01-07    0.418121\n",
       "2000-01-08    1.522733\n",
       "2000-01-09    0.967111\n",
       "2000-01-10    0.643099\n",
       "Freq: D, Name: A, dtype: float64"
      ]
     },
     "execution_count": 11,
     "metadata": {},
     "output_type": "execute_result"
    }
   ],
   "source": [
    "df.A"
   ]
  },
  {
   "cell_type": "code",
   "execution_count": 12,
   "metadata": {},
   "outputs": [
    {
     "data": {
      "text/html": [
       "<div>\n",
       "<style scoped>\n",
       "    .dataframe tbody tr th:only-of-type {\n",
       "        vertical-align: middle;\n",
       "    }\n",
       "\n",
       "    .dataframe tbody tr th {\n",
       "        vertical-align: top;\n",
       "    }\n",
       "\n",
       "    .dataframe thead th {\n",
       "        text-align: right;\n",
       "    }\n",
       "</style>\n",
       "<table border=\"1\" class=\"dataframe\">\n",
       "  <thead>\n",
       "    <tr style=\"text-align: right;\">\n",
       "      <th></th>\n",
       "      <th>A</th>\n",
       "      <th>B</th>\n",
       "    </tr>\n",
       "  </thead>\n",
       "  <tbody>\n",
       "    <tr>\n",
       "      <th>2000-01-01</th>\n",
       "      <td>0.383023</td>\n",
       "      <td>1.877255</td>\n",
       "    </tr>\n",
       "    <tr>\n",
       "      <th>2000-01-02</th>\n",
       "      <td>-0.346059</td>\n",
       "      <td>-1.852604</td>\n",
       "    </tr>\n",
       "    <tr>\n",
       "      <th>2000-01-03</th>\n",
       "      <td>-0.819541</td>\n",
       "      <td>-1.055057</td>\n",
       "    </tr>\n",
       "    <tr>\n",
       "      <th>2000-01-04</th>\n",
       "      <td>-1.157159</td>\n",
       "      <td>0.325264</td>\n",
       "    </tr>\n",
       "    <tr>\n",
       "      <th>2000-01-05</th>\n",
       "      <td>0.423163</td>\n",
       "      <td>0.031872</td>\n",
       "    </tr>\n",
       "    <tr>\n",
       "      <th>2000-01-06</th>\n",
       "      <td>1.124121</td>\n",
       "      <td>0.238396</td>\n",
       "    </tr>\n",
       "    <tr>\n",
       "      <th>2000-01-07</th>\n",
       "      <td>0.418121</td>\n",
       "      <td>0.623196</td>\n",
       "    </tr>\n",
       "    <tr>\n",
       "      <th>2000-01-08</th>\n",
       "      <td>1.522733</td>\n",
       "      <td>0.198380</td>\n",
       "    </tr>\n",
       "    <tr>\n",
       "      <th>2000-01-09</th>\n",
       "      <td>0.967111</td>\n",
       "      <td>0.165367</td>\n",
       "    </tr>\n",
       "    <tr>\n",
       "      <th>2000-01-10</th>\n",
       "      <td>0.643099</td>\n",
       "      <td>0.732588</td>\n",
       "    </tr>\n",
       "  </tbody>\n",
       "</table>\n",
       "</div>"
      ],
      "text/plain": [
       "                   A         B\n",
       "2000-01-01  0.383023  1.877255\n",
       "2000-01-02 -0.346059 -1.852604\n",
       "2000-01-03 -0.819541 -1.055057\n",
       "2000-01-04 -1.157159  0.325264\n",
       "2000-01-05  0.423163  0.031872\n",
       "2000-01-06  1.124121  0.238396\n",
       "2000-01-07  0.418121  0.623196\n",
       "2000-01-08  1.522733  0.198380\n",
       "2000-01-09  0.967111  0.165367\n",
       "2000-01-10  0.643099  0.732588"
      ]
     },
     "execution_count": 12,
     "metadata": {},
     "output_type": "execute_result"
    }
   ],
   "source": [
    "df[['A', 'B']]"
   ]
  },
  {
   "cell_type": "code",
   "execution_count": 13,
   "metadata": {},
   "outputs": [
    {
     "data": {
      "text/html": [
       "<div>\n",
       "<style scoped>\n",
       "    .dataframe tbody tr th:only-of-type {\n",
       "        vertical-align: middle;\n",
       "    }\n",
       "\n",
       "    .dataframe tbody tr th {\n",
       "        vertical-align: top;\n",
       "    }\n",
       "\n",
       "    .dataframe thead th {\n",
       "        text-align: right;\n",
       "    }\n",
       "</style>\n",
       "<table border=\"1\" class=\"dataframe\">\n",
       "  <thead>\n",
       "    <tr style=\"text-align: right;\">\n",
       "      <th></th>\n",
       "      <th>A</th>\n",
       "      <th>C</th>\n",
       "    </tr>\n",
       "  </thead>\n",
       "  <tbody>\n",
       "    <tr>\n",
       "      <th>2000-01-01</th>\n",
       "      <td>0.383023</td>\n",
       "      <td>-0.691781</td>\n",
       "    </tr>\n",
       "    <tr>\n",
       "      <th>2000-01-02</th>\n",
       "      <td>-0.346059</td>\n",
       "      <td>-0.278236</td>\n",
       "    </tr>\n",
       "    <tr>\n",
       "      <th>2000-01-03</th>\n",
       "      <td>-0.819541</td>\n",
       "      <td>0.057064</td>\n",
       "    </tr>\n",
       "    <tr>\n",
       "      <th>2000-01-04</th>\n",
       "      <td>-1.157159</td>\n",
       "      <td>-1.373997</td>\n",
       "    </tr>\n",
       "    <tr>\n",
       "      <th>2000-01-05</th>\n",
       "      <td>0.423163</td>\n",
       "      <td>-1.670472</td>\n",
       "    </tr>\n",
       "    <tr>\n",
       "      <th>2000-01-06</th>\n",
       "      <td>1.124121</td>\n",
       "      <td>1.685163</td>\n",
       "    </tr>\n",
       "    <tr>\n",
       "      <th>2000-01-07</th>\n",
       "      <td>0.418121</td>\n",
       "      <td>-0.076841</td>\n",
       "    </tr>\n",
       "    <tr>\n",
       "      <th>2000-01-08</th>\n",
       "      <td>1.522733</td>\n",
       "      <td>0.707319</td>\n",
       "    </tr>\n",
       "    <tr>\n",
       "      <th>2000-01-09</th>\n",
       "      <td>0.967111</td>\n",
       "      <td>0.565064</td>\n",
       "    </tr>\n",
       "    <tr>\n",
       "      <th>2000-01-10</th>\n",
       "      <td>0.643099</td>\n",
       "      <td>1.441999</td>\n",
       "    </tr>\n",
       "  </tbody>\n",
       "</table>\n",
       "</div>"
      ],
      "text/plain": [
       "                   A         C\n",
       "2000-01-01  0.383023 -0.691781\n",
       "2000-01-02 -0.346059 -0.278236\n",
       "2000-01-03 -0.819541  0.057064\n",
       "2000-01-04 -1.157159 -1.373997\n",
       "2000-01-05  0.423163 -1.670472\n",
       "2000-01-06  1.124121  1.685163\n",
       "2000-01-07  0.418121 -0.076841\n",
       "2000-01-08  1.522733  0.707319\n",
       "2000-01-09  0.967111  0.565064\n",
       "2000-01-10  0.643099  1.441999"
      ]
     },
     "execution_count": 13,
     "metadata": {},
     "output_type": "execute_result"
    }
   ],
   "source": [
    "df[['A', 'C']]"
   ]
  },
  {
   "cell_type": "code",
   "execution_count": 14,
   "metadata": {},
   "outputs": [
    {
     "data": {
      "text/html": [
       "<div>\n",
       "<style scoped>\n",
       "    .dataframe tbody tr th:only-of-type {\n",
       "        vertical-align: middle;\n",
       "    }\n",
       "\n",
       "    .dataframe tbody tr th {\n",
       "        vertical-align: top;\n",
       "    }\n",
       "\n",
       "    .dataframe thead th {\n",
       "        text-align: right;\n",
       "    }\n",
       "</style>\n",
       "<table border=\"1\" class=\"dataframe\">\n",
       "  <thead>\n",
       "    <tr style=\"text-align: right;\">\n",
       "      <th></th>\n",
       "      <th>A</th>\n",
       "      <th>B</th>\n",
       "      <th>C</th>\n",
       "    </tr>\n",
       "  </thead>\n",
       "  <tbody>\n",
       "    <tr>\n",
       "      <th>2000-01-01</th>\n",
       "      <td>0.383023</td>\n",
       "      <td>1.877255</td>\n",
       "      <td>-0.691781</td>\n",
       "    </tr>\n",
       "    <tr>\n",
       "      <th>2000-01-02</th>\n",
       "      <td>-0.346059</td>\n",
       "      <td>-1.852604</td>\n",
       "      <td>-0.278236</td>\n",
       "    </tr>\n",
       "    <tr>\n",
       "      <th>2000-01-03</th>\n",
       "      <td>-0.819541</td>\n",
       "      <td>-1.055057</td>\n",
       "      <td>0.057064</td>\n",
       "    </tr>\n",
       "    <tr>\n",
       "      <th>2000-01-04</th>\n",
       "      <td>-1.157159</td>\n",
       "      <td>0.325264</td>\n",
       "      <td>-1.373997</td>\n",
       "    </tr>\n",
       "    <tr>\n",
       "      <th>2000-01-05</th>\n",
       "      <td>0.423163</td>\n",
       "      <td>0.031872</td>\n",
       "      <td>-1.670472</td>\n",
       "    </tr>\n",
       "    <tr>\n",
       "      <th>2000-01-06</th>\n",
       "      <td>1.124121</td>\n",
       "      <td>0.238396</td>\n",
       "      <td>1.685163</td>\n",
       "    </tr>\n",
       "    <tr>\n",
       "      <th>2000-01-07</th>\n",
       "      <td>0.418121</td>\n",
       "      <td>0.623196</td>\n",
       "      <td>-0.076841</td>\n",
       "    </tr>\n",
       "    <tr>\n",
       "      <th>2000-01-08</th>\n",
       "      <td>1.522733</td>\n",
       "      <td>0.198380</td>\n",
       "      <td>0.707319</td>\n",
       "    </tr>\n",
       "    <tr>\n",
       "      <th>2000-01-09</th>\n",
       "      <td>0.967111</td>\n",
       "      <td>0.165367</td>\n",
       "      <td>0.565064</td>\n",
       "    </tr>\n",
       "    <tr>\n",
       "      <th>2000-01-10</th>\n",
       "      <td>0.643099</td>\n",
       "      <td>0.732588</td>\n",
       "      <td>1.441999</td>\n",
       "    </tr>\n",
       "  </tbody>\n",
       "</table>\n",
       "</div>"
      ],
      "text/plain": [
       "                   A         B         C\n",
       "2000-01-01  0.383023  1.877255 -0.691781\n",
       "2000-01-02 -0.346059 -1.852604 -0.278236\n",
       "2000-01-03 -0.819541 -1.055057  0.057064\n",
       "2000-01-04 -1.157159  0.325264 -1.373997\n",
       "2000-01-05  0.423163  0.031872 -1.670472\n",
       "2000-01-06  1.124121  0.238396  1.685163\n",
       "2000-01-07  0.418121  0.623196 -0.076841\n",
       "2000-01-08  1.522733  0.198380  0.707319\n",
       "2000-01-09  0.967111  0.165367  0.565064\n",
       "2000-01-10  0.643099  0.732588  1.441999"
      ]
     },
     "execution_count": 14,
     "metadata": {},
     "output_type": "execute_result"
    }
   ],
   "source": [
    "df[['A','B','C']]"
   ]
  },
  {
   "cell_type": "code",
   "execution_count": 15,
   "metadata": {},
   "outputs": [],
   "source": [
    "s = df['A']"
   ]
  },
  {
   "cell_type": "code",
   "execution_count": 16,
   "metadata": {},
   "outputs": [
    {
     "data": {
      "text/plain": [
       "2000-01-01    0.383023\n",
       "2000-01-02   -0.346059\n",
       "2000-01-03   -0.819541\n",
       "2000-01-04   -1.157159\n",
       "2000-01-05    0.423163\n",
       "2000-01-06    1.124121\n",
       "2000-01-07    0.418121\n",
       "2000-01-08    1.522733\n",
       "2000-01-09    0.967111\n",
       "2000-01-10    0.643099\n",
       "Freq: D, Name: A, dtype: float64"
      ]
     },
     "execution_count": 16,
     "metadata": {},
     "output_type": "execute_result"
    }
   ],
   "source": [
    "s"
   ]
  },
  {
   "cell_type": "code",
   "execution_count": 17,
   "metadata": {},
   "outputs": [
    {
     "data": {
      "text/plain": [
       "1.1241206633908398"
      ]
     },
     "execution_count": 17,
     "metadata": {},
     "output_type": "execute_result"
    }
   ],
   "source": [
    " s[dates[5]]"
   ]
  },
  {
   "cell_type": "code",
   "execution_count": 18,
   "metadata": {},
   "outputs": [],
   "source": [
    "df[['B', 'A']] = df[['A', 'B']]"
   ]
  },
  {
   "cell_type": "code",
   "execution_count": 19,
   "metadata": {},
   "outputs": [
    {
     "data": {
      "text/html": [
       "<div>\n",
       "<style scoped>\n",
       "    .dataframe tbody tr th:only-of-type {\n",
       "        vertical-align: middle;\n",
       "    }\n",
       "\n",
       "    .dataframe tbody tr th {\n",
       "        vertical-align: top;\n",
       "    }\n",
       "\n",
       "    .dataframe thead th {\n",
       "        text-align: right;\n",
       "    }\n",
       "</style>\n",
       "<table border=\"1\" class=\"dataframe\">\n",
       "  <thead>\n",
       "    <tr style=\"text-align: right;\">\n",
       "      <th></th>\n",
       "      <th>A</th>\n",
       "      <th>B</th>\n",
       "      <th>C</th>\n",
       "      <th>D</th>\n",
       "    </tr>\n",
       "  </thead>\n",
       "  <tbody>\n",
       "    <tr>\n",
       "      <th>2000-01-01</th>\n",
       "      <td>1.877255</td>\n",
       "      <td>0.383023</td>\n",
       "      <td>-0.691781</td>\n",
       "      <td>-0.703798</td>\n",
       "    </tr>\n",
       "    <tr>\n",
       "      <th>2000-01-02</th>\n",
       "      <td>-1.852604</td>\n",
       "      <td>-0.346059</td>\n",
       "      <td>-0.278236</td>\n",
       "      <td>-1.297436</td>\n",
       "    </tr>\n",
       "    <tr>\n",
       "      <th>2000-01-03</th>\n",
       "      <td>-1.055057</td>\n",
       "      <td>-0.819541</td>\n",
       "      <td>0.057064</td>\n",
       "      <td>-0.134281</td>\n",
       "    </tr>\n",
       "    <tr>\n",
       "      <th>2000-01-04</th>\n",
       "      <td>0.325264</td>\n",
       "      <td>-1.157159</td>\n",
       "      <td>-1.373997</td>\n",
       "      <td>-1.941989</td>\n",
       "    </tr>\n",
       "    <tr>\n",
       "      <th>2000-01-05</th>\n",
       "      <td>0.031872</td>\n",
       "      <td>0.423163</td>\n",
       "      <td>-1.670472</td>\n",
       "      <td>-0.621873</td>\n",
       "    </tr>\n",
       "    <tr>\n",
       "      <th>2000-01-06</th>\n",
       "      <td>0.238396</td>\n",
       "      <td>1.124121</td>\n",
       "      <td>1.685163</td>\n",
       "      <td>-0.251619</td>\n",
       "    </tr>\n",
       "    <tr>\n",
       "      <th>2000-01-07</th>\n",
       "      <td>0.623196</td>\n",
       "      <td>0.418121</td>\n",
       "      <td>-0.076841</td>\n",
       "      <td>0.837139</td>\n",
       "    </tr>\n",
       "    <tr>\n",
       "      <th>2000-01-08</th>\n",
       "      <td>0.198380</td>\n",
       "      <td>1.522733</td>\n",
       "      <td>0.707319</td>\n",
       "      <td>1.362846</td>\n",
       "    </tr>\n",
       "    <tr>\n",
       "      <th>2000-01-09</th>\n",
       "      <td>0.165367</td>\n",
       "      <td>0.967111</td>\n",
       "      <td>0.565064</td>\n",
       "      <td>-0.872076</td>\n",
       "    </tr>\n",
       "    <tr>\n",
       "      <th>2000-01-10</th>\n",
       "      <td>0.732588</td>\n",
       "      <td>0.643099</td>\n",
       "      <td>1.441999</td>\n",
       "      <td>1.011026</td>\n",
       "    </tr>\n",
       "  </tbody>\n",
       "</table>\n",
       "</div>"
      ],
      "text/plain": [
       "                   A         B         C         D\n",
       "2000-01-01  1.877255  0.383023 -0.691781 -0.703798\n",
       "2000-01-02 -1.852604 -0.346059 -0.278236 -1.297436\n",
       "2000-01-03 -1.055057 -0.819541  0.057064 -0.134281\n",
       "2000-01-04  0.325264 -1.157159 -1.373997 -1.941989\n",
       "2000-01-05  0.031872  0.423163 -1.670472 -0.621873\n",
       "2000-01-06  0.238396  1.124121  1.685163 -0.251619\n",
       "2000-01-07  0.623196  0.418121 -0.076841  0.837139\n",
       "2000-01-08  0.198380  1.522733  0.707319  1.362846\n",
       "2000-01-09  0.165367  0.967111  0.565064 -0.872076\n",
       "2000-01-10  0.732588  0.643099  1.441999  1.011026"
      ]
     },
     "execution_count": 19,
     "metadata": {},
     "output_type": "execute_result"
    }
   ],
   "source": [
    "df"
   ]
  },
  {
   "cell_type": "code",
   "execution_count": 20,
   "metadata": {},
   "outputs": [],
   "source": [
    "df.loc[:, ['B', 'A']] = df[['A', 'B']].to_numpy()"
   ]
  },
  {
   "cell_type": "code",
   "execution_count": 37,
   "metadata": {},
   "outputs": [
    {
     "data": {
      "text/html": [
       "<div>\n",
       "<style scoped>\n",
       "    .dataframe tbody tr th:only-of-type {\n",
       "        vertical-align: middle;\n",
       "    }\n",
       "\n",
       "    .dataframe tbody tr th {\n",
       "        vertical-align: top;\n",
       "    }\n",
       "\n",
       "    .dataframe thead th {\n",
       "        text-align: right;\n",
       "    }\n",
       "</style>\n",
       "<table border=\"1\" class=\"dataframe\">\n",
       "  <thead>\n",
       "    <tr style=\"text-align: right;\">\n",
       "      <th></th>\n",
       "      <th>A</th>\n",
       "      <th>B</th>\n",
       "      <th>C</th>\n",
       "      <th>D</th>\n",
       "    </tr>\n",
       "  </thead>\n",
       "  <tbody>\n",
       "    <tr>\n",
       "      <td>2000-01-01</td>\n",
       "      <td>-1.072388</td>\n",
       "      <td>0.535008</td>\n",
       "      <td>1.421103</td>\n",
       "      <td>-0.192372</td>\n",
       "    </tr>\n",
       "    <tr>\n",
       "      <td>2000-01-02</td>\n",
       "      <td>-0.209947</td>\n",
       "      <td>0.047431</td>\n",
       "      <td>-0.166380</td>\n",
       "      <td>1.663523</td>\n",
       "    </tr>\n",
       "    <tr>\n",
       "      <td>2000-01-03</td>\n",
       "      <td>-0.814171</td>\n",
       "      <td>-1.477963</td>\n",
       "      <td>0.006475</td>\n",
       "      <td>0.075115</td>\n",
       "    </tr>\n",
       "    <tr>\n",
       "      <td>2000-01-04</td>\n",
       "      <td>1.199787</td>\n",
       "      <td>-0.405187</td>\n",
       "      <td>0.336995</td>\n",
       "      <td>-1.675011</td>\n",
       "    </tr>\n",
       "    <tr>\n",
       "      <td>2000-01-05</td>\n",
       "      <td>0.614199</td>\n",
       "      <td>-0.047723</td>\n",
       "      <td>0.443761</td>\n",
       "      <td>-0.515415</td>\n",
       "    </tr>\n",
       "    <tr>\n",
       "      <td>2000-01-06</td>\n",
       "      <td>0.557425</td>\n",
       "      <td>-0.508526</td>\n",
       "      <td>-0.543155</td>\n",
       "      <td>-0.325128</td>\n",
       "    </tr>\n",
       "    <tr>\n",
       "      <td>2000-01-07</td>\n",
       "      <td>0.834570</td>\n",
       "      <td>-0.299431</td>\n",
       "      <td>1.558744</td>\n",
       "      <td>-0.282465</td>\n",
       "    </tr>\n",
       "    <tr>\n",
       "      <td>2000-01-08</td>\n",
       "      <td>-0.412928</td>\n",
       "      <td>1.435479</td>\n",
       "      <td>-0.699651</td>\n",
       "      <td>0.241818</td>\n",
       "    </tr>\n",
       "    <tr>\n",
       "      <td>2000-01-09</td>\n",
       "      <td>-0.438080</td>\n",
       "      <td>-0.135515</td>\n",
       "      <td>0.164591</td>\n",
       "      <td>0.739311</td>\n",
       "    </tr>\n",
       "    <tr>\n",
       "      <td>2000-01-10</td>\n",
       "      <td>0.419097</td>\n",
       "      <td>0.939482</td>\n",
       "      <td>-1.325871</td>\n",
       "      <td>0.302467</td>\n",
       "    </tr>\n",
       "  </tbody>\n",
       "</table>\n",
       "</div>"
      ],
      "text/plain": [
       "                   A         B         C         D\n",
       "2000-01-01 -1.072388  0.535008  1.421103 -0.192372\n",
       "2000-01-02 -0.209947  0.047431 -0.166380  1.663523\n",
       "2000-01-03 -0.814171 -1.477963  0.006475  0.075115\n",
       "2000-01-04  1.199787 -0.405187  0.336995 -1.675011\n",
       "2000-01-05  0.614199 -0.047723  0.443761 -0.515415\n",
       "2000-01-06  0.557425 -0.508526 -0.543155 -0.325128\n",
       "2000-01-07  0.834570 -0.299431  1.558744 -0.282465\n",
       "2000-01-08 -0.412928  1.435479 -0.699651  0.241818\n",
       "2000-01-09 -0.438080 -0.135515  0.164591  0.739311\n",
       "2000-01-10  0.419097  0.939482 -1.325871  0.302467"
      ]
     },
     "execution_count": 37,
     "metadata": {},
     "output_type": "execute_result"
    }
   ],
   "source": [
    "df"
   ]
  },
  {
   "cell_type": "code",
   "execution_count": 38,
   "metadata": {},
   "outputs": [],
   "source": [
    "sa = pd.Series([1, 2, 3], index=list('abc'))"
   ]
  },
  {
   "cell_type": "code",
   "execution_count": 39,
   "metadata": {},
   "outputs": [
    {
     "data": {
      "text/plain": [
       "a    1\n",
       "b    2\n",
       "c    3\n",
       "dtype: int64"
      ]
     },
     "execution_count": 39,
     "metadata": {},
     "output_type": "execute_result"
    }
   ],
   "source": [
    "sa"
   ]
  },
  {
   "cell_type": "code",
   "execution_count": 40,
   "metadata": {},
   "outputs": [],
   "source": [
    "dfa = df.copy()"
   ]
  },
  {
   "cell_type": "code",
   "execution_count": 41,
   "metadata": {},
   "outputs": [
    {
     "data": {
      "text/html": [
       "<div>\n",
       "<style scoped>\n",
       "    .dataframe tbody tr th:only-of-type {\n",
       "        vertical-align: middle;\n",
       "    }\n",
       "\n",
       "    .dataframe tbody tr th {\n",
       "        vertical-align: top;\n",
       "    }\n",
       "\n",
       "    .dataframe thead th {\n",
       "        text-align: right;\n",
       "    }\n",
       "</style>\n",
       "<table border=\"1\" class=\"dataframe\">\n",
       "  <thead>\n",
       "    <tr style=\"text-align: right;\">\n",
       "      <th></th>\n",
       "      <th>A</th>\n",
       "      <th>B</th>\n",
       "      <th>C</th>\n",
       "      <th>D</th>\n",
       "    </tr>\n",
       "  </thead>\n",
       "  <tbody>\n",
       "    <tr>\n",
       "      <td>2000-01-01</td>\n",
       "      <td>-1.072388</td>\n",
       "      <td>0.535008</td>\n",
       "      <td>1.421103</td>\n",
       "      <td>-0.192372</td>\n",
       "    </tr>\n",
       "    <tr>\n",
       "      <td>2000-01-02</td>\n",
       "      <td>-0.209947</td>\n",
       "      <td>0.047431</td>\n",
       "      <td>-0.166380</td>\n",
       "      <td>1.663523</td>\n",
       "    </tr>\n",
       "    <tr>\n",
       "      <td>2000-01-03</td>\n",
       "      <td>-0.814171</td>\n",
       "      <td>-1.477963</td>\n",
       "      <td>0.006475</td>\n",
       "      <td>0.075115</td>\n",
       "    </tr>\n",
       "    <tr>\n",
       "      <td>2000-01-04</td>\n",
       "      <td>1.199787</td>\n",
       "      <td>-0.405187</td>\n",
       "      <td>0.336995</td>\n",
       "      <td>-1.675011</td>\n",
       "    </tr>\n",
       "    <tr>\n",
       "      <td>2000-01-05</td>\n",
       "      <td>0.614199</td>\n",
       "      <td>-0.047723</td>\n",
       "      <td>0.443761</td>\n",
       "      <td>-0.515415</td>\n",
       "    </tr>\n",
       "    <tr>\n",
       "      <td>2000-01-06</td>\n",
       "      <td>0.557425</td>\n",
       "      <td>-0.508526</td>\n",
       "      <td>-0.543155</td>\n",
       "      <td>-0.325128</td>\n",
       "    </tr>\n",
       "    <tr>\n",
       "      <td>2000-01-07</td>\n",
       "      <td>0.834570</td>\n",
       "      <td>-0.299431</td>\n",
       "      <td>1.558744</td>\n",
       "      <td>-0.282465</td>\n",
       "    </tr>\n",
       "    <tr>\n",
       "      <td>2000-01-08</td>\n",
       "      <td>-0.412928</td>\n",
       "      <td>1.435479</td>\n",
       "      <td>-0.699651</td>\n",
       "      <td>0.241818</td>\n",
       "    </tr>\n",
       "    <tr>\n",
       "      <td>2000-01-09</td>\n",
       "      <td>-0.438080</td>\n",
       "      <td>-0.135515</td>\n",
       "      <td>0.164591</td>\n",
       "      <td>0.739311</td>\n",
       "    </tr>\n",
       "    <tr>\n",
       "      <td>2000-01-10</td>\n",
       "      <td>0.419097</td>\n",
       "      <td>0.939482</td>\n",
       "      <td>-1.325871</td>\n",
       "      <td>0.302467</td>\n",
       "    </tr>\n",
       "  </tbody>\n",
       "</table>\n",
       "</div>"
      ],
      "text/plain": [
       "                   A         B         C         D\n",
       "2000-01-01 -1.072388  0.535008  1.421103 -0.192372\n",
       "2000-01-02 -0.209947  0.047431 -0.166380  1.663523\n",
       "2000-01-03 -0.814171 -1.477963  0.006475  0.075115\n",
       "2000-01-04  1.199787 -0.405187  0.336995 -1.675011\n",
       "2000-01-05  0.614199 -0.047723  0.443761 -0.515415\n",
       "2000-01-06  0.557425 -0.508526 -0.543155 -0.325128\n",
       "2000-01-07  0.834570 -0.299431  1.558744 -0.282465\n",
       "2000-01-08 -0.412928  1.435479 -0.699651  0.241818\n",
       "2000-01-09 -0.438080 -0.135515  0.164591  0.739311\n",
       "2000-01-10  0.419097  0.939482 -1.325871  0.302467"
      ]
     },
     "execution_count": 41,
     "metadata": {},
     "output_type": "execute_result"
    }
   ],
   "source": [
    "dfa"
   ]
  },
  {
   "cell_type": "code",
   "execution_count": 42,
   "metadata": {},
   "outputs": [
    {
     "data": {
      "text/plain": [
       "2"
      ]
     },
     "execution_count": 42,
     "metadata": {},
     "output_type": "execute_result"
    }
   ],
   "source": [
    "sa.b"
   ]
  },
  {
   "cell_type": "code",
   "execution_count": 43,
   "metadata": {},
   "outputs": [
    {
     "data": {
      "text/plain": [
       "3"
      ]
     },
     "execution_count": 43,
     "metadata": {},
     "output_type": "execute_result"
    }
   ],
   "source": [
    "sa.c"
   ]
  },
  {
   "cell_type": "code",
   "execution_count": 44,
   "metadata": {},
   "outputs": [
    {
     "data": {
      "text/plain": [
       "1"
      ]
     },
     "execution_count": 44,
     "metadata": {},
     "output_type": "execute_result"
    }
   ],
   "source": [
    "sa.a"
   ]
  },
  {
   "cell_type": "code",
   "execution_count": 45,
   "metadata": {},
   "outputs": [
    {
     "data": {
      "text/plain": [
       "a    1\n",
       "b    2\n",
       "c    3\n",
       "dtype: int64"
      ]
     },
     "execution_count": 45,
     "metadata": {},
     "output_type": "execute_result"
    }
   ],
   "source": [
    "sa"
   ]
  },
  {
   "cell_type": "code",
   "execution_count": 46,
   "metadata": {},
   "outputs": [
    {
     "data": {
      "text/plain": [
       "2000-01-01   -1.072388\n",
       "2000-01-02   -0.209947\n",
       "2000-01-03   -0.814171\n",
       "2000-01-04    1.199787\n",
       "2000-01-05    0.614199\n",
       "2000-01-06    0.557425\n",
       "2000-01-07    0.834570\n",
       "2000-01-08   -0.412928\n",
       "2000-01-09   -0.438080\n",
       "2000-01-10    0.419097\n",
       "Freq: D, Name: A, dtype: float64"
      ]
     },
     "execution_count": 46,
     "metadata": {},
     "output_type": "execute_result"
    }
   ],
   "source": [
    "dfa.A"
   ]
  },
  {
   "cell_type": "code",
   "execution_count": 47,
   "metadata": {},
   "outputs": [
    {
     "data": {
      "text/plain": [
       "2000-01-01    0.535008\n",
       "2000-01-02    0.047431\n",
       "2000-01-03   -1.477963\n",
       "2000-01-04   -0.405187\n",
       "2000-01-05   -0.047723\n",
       "2000-01-06   -0.508526\n",
       "2000-01-07   -0.299431\n",
       "2000-01-08    1.435479\n",
       "2000-01-09   -0.135515\n",
       "2000-01-10    0.939482\n",
       "Freq: D, Name: B, dtype: float64"
      ]
     },
     "execution_count": 47,
     "metadata": {},
     "output_type": "execute_result"
    }
   ],
   "source": [
    "dfa.B"
   ]
  },
  {
   "cell_type": "code",
   "execution_count": 53,
   "metadata": {},
   "outputs": [
    {
     "data": {
      "text/plain": [
       "1"
      ]
     },
     "execution_count": 53,
     "metadata": {},
     "output_type": "execute_result"
    }
   ],
   "source": [
    "sa.a"
   ]
  },
  {
   "cell_type": "code",
   "execution_count": 0,
   "metadata": {},
   "outputs": [],
   "source": []
  }
 ],
 "metadata": {
  "kernelspec": {
   "display_name": "Python 3",
   "language": "python",
   "name": "python3"
  },
  "language_info": {
   "codemirror_mode": {
    "name": "ipython",
    "version": 3
   },
   "file_extension": ".py",
   "mimetype": "text/x-python",
   "name": "python",
   "nbconvert_exporter": "python",
   "pygments_lexer": "ipython3",
   "version": "3.8.0"
  }
 },
 "nbformat": 4,
 "nbformat_minor": 1
}
